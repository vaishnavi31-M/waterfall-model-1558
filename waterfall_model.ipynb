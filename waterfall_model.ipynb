{
  "nbformat": 4,
  "nbformat_minor": 0,
  "metadata": {
    "colab": {
      "provenance": [],
      "authorship_tag": "ABX9TyNhtKiwZNYhbEZfJR1Nwgns",
      "include_colab_link": true
    },
    "kernelspec": {
      "name": "python3",
      "display_name": "Python 3"
    },
    "language_info": {
      "name": "python"
    }
  },
  "cells": [
    {
      "cell_type": "markdown",
      "metadata": {
        "id": "view-in-github",
        "colab_type": "text"
      },
      "source": [
        "<a href=\"https://colab.research.google.com/github/vaishnavi31-M/waterfall-model-1558/blob/main/waterfall_model.ipynb\" target=\"_parent\"><img src=\"https://colab.research.google.com/assets/colab-badge.svg\" alt=\"Open In Colab\"/></a>"
      ]
    },
    {
      "cell_type": "markdown",
      "source": [
        "Implement waterfall modeling* using the quadratic solution in stages: hard-coding variables keyboard input, read from a file, for a single set of input, multiple sets of inputs.\n",
        "a. save all versions, debug, fix problems, create a Github account\n",
        "\n",
        "Implementation outline for weather modeling using a quadratic solution. The approach evolves in stages:\n",
        "\n",
        "1.Hardcoding variables.\n",
        "\n",
        "2.Accepting variables via keyboard input.\n",
        "\n",
        "3.Reading variables from a file.\n",
        "\n",
        "4.Processing a single set of inputs.\n",
        "\n",
        "5.Processing multiple sets of inputs. At the end, you will save the versions, debug, fix issues, and push the project to GitHub."
      ],
      "metadata": {
        "id": "4wmVSY__br1v"
      }
    },
    {
      "cell_type": "code",
      "execution_count": 1,
      "metadata": {
        "colab": {
          "base_uri": "https://localhost:8080/"
        },
        "id": "aQ44fLRLbiqH",
        "outputId": "035825a8-2456-444c-f111-05d34e02f7fe"
      },
      "outputs": [
        {
          "output_type": "stream",
          "name": "stdout",
          "text": [
            "Weather Prediction Quadratic Model\n",
            "Hardcoded: W = 426.00, Category = Sunny\n"
          ]
        }
      ],
      "source": [
        "def calculate_weather_model(T, H, W):\n",
        "    weather_value = 0.5 * T**2 - 0.2 * H + 0.1 * W - 15\n",
        "    return weather_value\n",
        "\n",
        "def categorize_weather(weather_value):\n",
        "    if weather_value >= 20:\n",
        "        return \"Sunny\"\n",
        "    elif 10 <= weather_value < 20:\n",
        "        return \"Cloudy\"\n",
        "    elif 0 <= weather_value < 10:\n",
        "        return \"Rainy\"\n",
        "    else:\n",
        "        return \"Stormy\"\n",
        "\n",
        "def hardcoded_weather_model():\n",
        "    T, H, W = 30, 50, 10  # Hardcoded values\n",
        "    weather_value = calculate_weather_model(T, H, W)\n",
        "    category = categorize_weather(weather_value)\n",
        "    print(f\"Hardcoded: W = {weather_value:.2f}, Category = {category}\")\n",
        "\n",
        "def main():\n",
        "    print(\"Weather Prediction Quadratic Model\")\n",
        "    hardcoded_weather_model()\n",
        "\n",
        "if __name__ == \"__main__\":\n",
        "    main()\n",
        "\n"
      ]
    },
    {
      "cell_type": "code",
      "source": [
        "def keyboard_weather_model():\n",
        "    T = float(input(\"Enter Temperature (T): \"))\n",
        "    H = float(input(\"Enter Humidity (H): \"))\n",
        "    W = float(input(\"Enter Wind Speed (W): \"))\n",
        "    weather_value = calculate_weather_model(T, H, W)\n",
        "    category = categorize_weather(weather_value)\n",
        "    print(f\"Keyboard Input: W = {weather_value:.2f}, Category = {category}\")\n",
        "\n",
        "def main():\n",
        "    print(\"Weather Prediction Quadratic Model\")\n",
        "    keyboard_weather_model()\n",
        "\n",
        "if __name__ == \"__main__\":\n",
        "    main()\n"
      ],
      "metadata": {
        "colab": {
          "base_uri": "https://localhost:8080/"
        },
        "id": "uic2cVjB0ios",
        "outputId": "591a99c7-1de5-4068-b6aa-e0516ac78ef2"
      },
      "execution_count": 2,
      "outputs": [
        {
          "output_type": "stream",
          "name": "stdout",
          "text": [
            "Weather Prediction Quadratic Model\n",
            "Enter Temperature (T): 8\n",
            "Enter Humidity (H): 10\n",
            "Enter Wind Speed (W): 23\n",
            "Keyboard Input: W = 17.30, Category = Cloudy\n"
          ]
        }
      ]
    },
    {
      "cell_type": "code",
      "source": [
        "def file_weather_model():\n",
        "    try:\n",
        "        with open(\"spam.txt\", \"r\") as file:\n",
        "            lines = file.readlines()\n",
        "        for idx, line in enumerate(lines):\n",
        "            T, H, W = map(float, line.strip().split())\n",
        "            weather_value = calculate_weather_model(T, H, W)\n",
        "            category = categorize_weather(weather_value)\n",
        "            print(f\"File Input (Set {idx + 1}): W = {weather_value:.2f}, Category = {category}\")\n",
        "    except FileNotFoundError:\n",
        "        print(\"Error: File 'spam.txt' not found.\")\n",
        "    except ValueError:\n",
        "        print(\"Error: Invalid data format in 'spam.txt'.\")\n",
        "\n",
        "def main():\n",
        "    print(\"Weather Prediction Quadratic Model\")\n",
        "    file_weather_model()\n",
        "\n",
        "if __name__ == \"__main__\":\n",
        "    main()\n"
      ],
      "metadata": {
        "colab": {
          "base_uri": "https://localhost:8080/"
        },
        "id": "oLR2FpjR0pfZ",
        "outputId": "6df378ec-2d57-4385-db83-d6b4d5711999"
      },
      "execution_count": 4,
      "outputs": [
        {
          "output_type": "stream",
          "name": "stdout",
          "text": [
            "Weather Prediction Quadratic Model\n",
            "File Input (Set 1): W = 438.31, Category = Sunny\n",
            "File Input (Set 2): W = 282.06, Category = Sunny\n",
            "File Input (Set 3): W = 784.03, Category = Sunny\n",
            "File Input (Set 4): W = 92.56, Category = Sunny\n"
          ]
        }
      ]
    },
    {
      "cell_type": "code",
      "source": [
        "def single_input_weather_model():\n",
        "    T = float(input(\"Enter Temperature (T): \"))\n",
        "    H = float(input(\"Enter Humidity (H): \"))\n",
        "    W = float(input(\"Enter Wind Speed (W): \"))\n",
        "    weather_value = calculate_weather_model(T, H, W)\n",
        "    category = categorize_weather(weather_value)\n",
        "    print(f\"Single Input: W = {weather_value:.2f}, Category = {category}\")\n",
        "\n",
        "def main():\n",
        "    print(\"Weather Prediction Quadratic Model\")\n",
        "    single_input_weather_model()\n",
        "\n",
        "if __name__ == \"__main__\":\n",
        "    main()\n"
      ],
      "metadata": {
        "colab": {
          "base_uri": "https://localhost:8080/"
        },
        "id": "b_U_uLep1JeP",
        "outputId": "457f68a0-93b6-4b96-9939-79a915dab449"
      },
      "execution_count": 5,
      "outputs": [
        {
          "output_type": "stream",
          "name": "stdout",
          "text": [
            "Weather Prediction Quadratic Model\n",
            "Enter Temperature (T): 34\n",
            "Enter Humidity (H): 2\n",
            "Enter Wind Speed (W): 56\n",
            "Single Input: W = 568.20, Category = Sunny\n"
          ]
        }
      ]
    },
    {
      "cell_type": "code",
      "source": [
        "def multiple_input_weather_model():\n",
        "    num_sets = int(input(\"Enter number of input sets: \"))\n",
        "    for i in range(num_sets):\n",
        "        print(f\"\\nSet {i + 1}:\")\n",
        "        T = float(input(\"Enter Temperature (T): \"))\n",
        "        H = float(input(\"Enter Humidity (H): \"))\n",
        "        W = float(input(\"Enter Wind Speed (W): \"))\n",
        "        weather_value = calculate_weather_model(T, H, W)\n",
        "        category = categorize_weather(weather_value)\n",
        "        print(f\"Set {i + 1}: W = {weather_value:.2f}, Category = {category}\")\n",
        "\n",
        "def main():\n",
        "    print(\"Weather Prediction Quadratic Model\")\n",
        "    multiple_input_weather_model()\n",
        "\n",
        "if __name__ == \"__main__\":\n",
        "    main()\n",
        "\n"
      ],
      "metadata": {
        "colab": {
          "base_uri": "https://localhost:8080/"
        },
        "id": "Xr5QL4X31Qd5",
        "outputId": "13edc390-388b-4dda-d6c6-a12171a078eb"
      },
      "execution_count": 7,
      "outputs": [
        {
          "output_type": "stream",
          "name": "stdout",
          "text": [
            "Weather Prediction Quadratic Model\n",
            "Enter number of input sets: 2\n",
            "\n",
            "Set 1:\n",
            "Enter Temperature (T): 44\n",
            "Enter Humidity (H): 56\n",
            "Enter Wind Speed (W): 88\n",
            "Set 1: W = 950.60, Category = Sunny\n",
            "\n",
            "Set 2:\n",
            "Enter Temperature (T): 5\n",
            "Enter Humidity (H): 3\n",
            "Enter Wind Speed (W): 6\n",
            "Set 2: W = -2.50, Category = Stormy\n"
          ]
        }
      ]
    }
  ]
}